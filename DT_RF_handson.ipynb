{
 "cells": [
  {
   "cell_type": "code",
   "execution_count": 7,
   "metadata": {},
   "outputs": [],
   "source": [
    "import pandas as pd\n",
    "import numpy as np\n",
    "import matplotlib.pyplot as plt\n",
    "import seaborn as sns\n",
    "%matplotlib inline\n",
    "from sklearn.ensemble import RandomForestClassifier\n",
    "from sklearn.tree import DecisionTreeClassifier\n",
    "from sklearn.model_selection import train_test_split\n",
    "from sklearn.metrics import classification_report, confusion_matrix\n",
    "from sklearn.model_selection import RandomizedSearchCV\n",
    "from sklearn.metrics import classification_report, confusion_matrix, accuracy_score\n",
    "import warnings\n",
    "warnings.filterwarnings(\"ignore\")"
   ]
  },
  {
   "cell_type": "code",
   "execution_count": 6,
   "metadata": {},
   "outputs": [
    {
     "name": "stdout",
     "output_type": "stream",
     "text": [
      "[[12  7]\n",
      " [ 9 27]]\n",
      "              precision    recall  f1-score   support\n",
      "\n",
      "           0       0.57      0.63      0.60        19\n",
      "           1       0.79      0.75      0.77        36\n",
      "\n",
      "    accuracy                           0.71        55\n",
      "   macro avg       0.68      0.69      0.69        55\n",
      "weighted avg       0.72      0.71      0.71        55\n",
      "\n",
      "[[15  4]\n",
      " [ 7 29]]\n",
      "              precision    recall  f1-score   support\n",
      "\n",
      "           0       0.68      0.79      0.73        19\n",
      "           1       0.88      0.81      0.84        36\n",
      "\n",
      "    accuracy                           0.80        55\n",
      "   macro avg       0.78      0.80      0.79        55\n",
      "weighted avg       0.81      0.80      0.80        55\n",
      "\n"
     ]
    }
   ],
   "source": [
    "titanic = sns.load_dataset('titanic')\n",
    "\n",
    "\n",
    "titanic1 = titanic\n",
    "titanic1.head()\n",
    "\n",
    "def rec_sex (series):\n",
    "    if series == \"female\":\n",
    "        return 1\n",
    "    if series == \"male\":\n",
    "        return 0\n",
    "    \n",
    "\n",
    "titanic1['sexR'] = titanic['sex'].apply(rec_sex)\n",
    "\n",
    "\n",
    "titanic['sex'].value_counts()\n",
    "\n",
    "titanic1['sexR'].value_counts()\n",
    "\n",
    "titanic['sex'].isnull()\n",
    "\n",
    "titanic1['embarked'].value_counts()\n",
    "\n",
    "titanic1['embarked'].isnull()\n",
    "\n",
    "def rec_embarked (series):\n",
    "    if series == \"S\":\n",
    "        return 0\n",
    "    if series == \"C\":\n",
    "        return 1\n",
    "    if series == \"Q\":\n",
    "        return 2\n",
    "\n",
    "titanic1['embarkedR'] = titanic['embarked'].apply(rec_embarked)\n",
    "\n",
    "\n",
    "titanic1['class'].value_counts()\n",
    "\n",
    "titanic1['class'].isnull()\n",
    "\n",
    "def rec_class (series):\n",
    "    if series == \"First\":\n",
    "        return 0\n",
    "    if series == \"Third\":\n",
    "        return 1\n",
    "    if series == \"Second\":\n",
    "        return 2\n",
    "\n",
    "titanic1['classR'] = titanic['class'].apply(rec_class)\n",
    "\n",
    "\n",
    "titanic1['who'].value_counts()\n",
    "\n",
    "titanic1['who'].isnull()\n",
    "\n",
    "def rec_who (series):\n",
    "    if series == \"man\":\n",
    "        return 0\n",
    "    if series == \"woman\":\n",
    "        return 1\n",
    "    if series == \"child\":\n",
    "        return 2\n",
    "\n",
    "titanic1['whoR'] = titanic['who'].apply(rec_who)\n",
    "\n",
    "\n",
    "titanic1['adult_male'].value_counts()\n",
    "\n",
    "\n",
    "x =titanic1['adult_male'].isnull()\n",
    "\n",
    "x.value_counts()\n",
    "\n",
    "def rec_adult_male (series):\n",
    "    if series == True:\n",
    "        return 1\n",
    "    if series == False:\n",
    "        return 0\n",
    "\n",
    "titanic1['adult_maleR'] = titanic['adult_male'].apply(rec_adult_male)\n",
    "\n",
    "\n",
    "\n",
    "\n",
    "titanic1['deck'].value_counts()\n",
    "\n",
    "titanic1['deck'].isnull()\n",
    "\n",
    "titanic2 = titanic1.dropna() \n",
    "\n",
    "titanic2['deck'].value_counts()\n",
    "\n",
    "\n",
    "def rec_deck (series):\n",
    "    if series == \"A\":\n",
    "        return 0\n",
    "    if series == \"B\":\n",
    "        return 1\n",
    "    if series == \"A\":\n",
    "        return 2\n",
    "    if series == \"C\":\n",
    "        return 3\n",
    "    if series == \"D\":\n",
    "        return 4\n",
    "    if series == \"E\":\n",
    "        return 5\n",
    "    if series == \"F\":\n",
    "        return 6\n",
    "    if series == \"G\":\n",
    "        return 7\n",
    "    \n",
    "\n",
    "titanic2['deckR'] = titanic2['deck'].apply(rec_deck)\n",
    "titanic2.head()\n",
    "\n",
    "def rec_alive (series):\n",
    "    if series == \"yes\":\n",
    "        return 1\n",
    "    if series == \"no\":\n",
    "        return 0\n",
    "    \n",
    "\n",
    "titanic2['aliveR'] = titanic2['alive'].apply(rec_alive)\n",
    "\n",
    "\n",
    "def rec_alone (series):\n",
    "    if series == True:\n",
    "        return 1\n",
    "    if series == False:\n",
    "        return 0\n",
    "    \n",
    "\n",
    "titanic2['aloneR'] = titanic2['alone'].apply(rec_alone)\n",
    "\n",
    "\n",
    "list(titanic2.columns)\n",
    "\n",
    "titanic2.dtypes\n",
    "\n",
    "titanic2['age'] = titanic2['age'].astype('int64')\n",
    "\n",
    "titanic2.dtypes\n",
    "\n",
    "titanic2['fare'] = titanic2['fare'].astype('int64')\n",
    "titanic2['embarkedR'] = titanic2['embarkedR'].astype('int64')\n",
    "titanic2['classR'] = titanic2['classR'].astype('int64')\n",
    "titanic2['deckR'] = titanic2['deckR'].astype('int64')\n",
    "\n",
    "\n",
    "\n",
    "titanic2['embark_town'].value_counts()\n",
    "\n",
    "def rec_embark_town (series):\n",
    "    if series == 'Southampton':\n",
    "        return 0\n",
    "    if series == 'Cherbourg':\n",
    "        return 1\n",
    "    if series == 'Queenstown':\n",
    "        return 2\n",
    "    \n",
    "\n",
    "titanic2['embark_townR'] = titanic2['embark_town'].apply(rec_embark_town)\n",
    "\n",
    "\n",
    "titanic2.dtypes\n",
    "\n",
    "titanic3 = titanic2[['survived', 'pclass', 'age', 'sibsp', 'parch', 'fare', 'sexR', 'classR', 'embarkedR', 'adult_maleR', 'deckR', 'aloneR', 'embark_townR']]\n",
    "# Dropped aliveR column as it has 100% correlation.\n",
    "\n",
    "list(titanic3.columns)\n",
    "\n",
    "titanic3.head()\n",
    "\n",
    "\n",
    "#Decision Tree\n",
    "\n",
    "\n",
    "x = titanic3.drop('survived', axis =1)\n",
    "y = titanic3['survived']\n",
    "\n",
    "x_train, x_test, y_train, y_test = train_test_split(x,y, test_size=0.3, random_state=76)\n",
    "\n",
    "decisionTree = DecisionTreeClassifier(random_state=76)\n",
    "decisionTree.fit(x_train, y_train)\n",
    "\n",
    "treePredictions = decisionTree.predict(x_test)\n",
    "print(confusion_matrix(y_test, treePredictions))\n",
    "\n",
    "print(classification_report(y_test, treePredictions))\n",
    "\n",
    "#Random Forest\n",
    "\n",
    "forest = RandomForestClassifier(n_estimators=500, random_state=76)\n",
    "forest.fit(x_train, y_train)\n",
    "\n",
    "forestPredictions = forest.predict(x_test)\n",
    "print(confusion_matrix(y_test, forestPredictions))\n",
    "print(classification_report(y_test, forestPredictions))\n",
    "\n"
   ]
  },
  {
   "cell_type": "code",
   "execution_count": 4,
   "metadata": {},
   "outputs": [],
   "source": [
    "#Decision tree algorithm gives 72% accuracy "
   ]
  },
  {
   "cell_type": "code",
   "execution_count": 5,
   "metadata": {},
   "outputs": [],
   "source": [
    "#RF algorithm gives 81% accuracy."
   ]
  },
  {
   "cell_type": "code",
   "execution_count": 6,
   "metadata": {},
   "outputs": [
    {
     "data": {
      "text/plain": [
       "pclass          0.017871\n",
       "age             0.232051\n",
       "sibsp           0.034926\n",
       "parch           0.037310\n",
       "fare            0.219760\n",
       "sexR            0.109603\n",
       "classR          0.013325\n",
       "embarkedR       0.021867\n",
       "adult_maleR     0.171654\n",
       "deckR           0.104605\n",
       "aloneR          0.015994\n",
       "embark_townR    0.021035\n",
       "dtype: float64"
      ]
     },
     "execution_count": 6,
     "metadata": {},
     "output_type": "execute_result"
    }
   ],
   "source": [
    "feature_importances = pd.Series(forest.feature_importances_, index=x.columns)\n",
    "feature_importances"
   ]
  },
  {
   "cell_type": "code",
   "execution_count": 7,
   "metadata": {},
   "outputs": [
    {
     "name": "stdout",
     "output_type": "stream",
     "text": [
      "1 : 0.6909090909090909\n",
      "4 : 0.7090909090909091\n",
      "5 : 0.7818181818181819\n",
      "8 : 0.8\n",
      "10 : 0.8363636363636363\n",
      "20 : 0.8545454545454545\n",
      "50 : 0.8\n",
      "75 : 0.7818181818181819\n",
      "100 : 0.8\n",
      "250 : 0.8\n",
      "500 : 0.8\n"
     ]
    }
   ],
   "source": [
    "n_estimators_array = [1, 4, 5, 8, 10, 20, 50, 75, 100, 250, 500]\n",
    "results = []\n",
    "for n in n_estimators_array:\n",
    "    forest = RandomForestClassifier(n_estimators=n, random_state=76)\n",
    "    forest.fit(x_train, y_train)\n",
    "    result = accuracy_score(y_test, forest.predict(x_test))\n",
    "    results.append(result) \n",
    "    print(n, ':', result)\n"
   ]
  },
  {
   "cell_type": "code",
   "execution_count": 8,
   "metadata": {},
   "outputs": [
    {
     "name": "stdout",
     "output_type": "stream",
     "text": [
      "{'max_features': ['auto', None, 'log2'], 'max_depth': [10, 20, 30, 40, 50, 60, 70, 80, 90, None], 'min_samples_leaf': [1, 2, 4]}\n"
     ]
    },
    {
     "data": {
      "text/plain": [
       "RandomizedSearchCV(cv=3, error_score=nan,\n",
       "                   estimator=RandomForestClassifier(bootstrap=True,\n",
       "                                                    ccp_alpha=0.0,\n",
       "                                                    class_weight=None,\n",
       "                                                    criterion='gini',\n",
       "                                                    max_depth=None,\n",
       "                                                    max_features='auto',\n",
       "                                                    max_leaf_nodes=None,\n",
       "                                                    max_samples=None,\n",
       "                                                    min_impurity_decrease=0.0,\n",
       "                                                    min_impurity_split=None,\n",
       "                                                    min_samples_leaf=1,\n",
       "                                                    min_samples_split=2,\n",
       "                                                    min_weight_fraction_leaf=0.0,\n",
       "                                                    n_estimators=10,\n",
       "                                                    n_jobs=None,\n",
       "                                                    oob_score=False,\n",
       "                                                    random_state=None,\n",
       "                                                    verbose=0,\n",
       "                                                    warm_start=False),\n",
       "                   iid='deprecated', n_iter=90, n_jobs=None,\n",
       "                   param_distributions={'max_depth': [10, 20, 30, 40, 50, 60,\n",
       "                                                      70, 80, 90, None],\n",
       "                                        'max_features': ['auto', None, 'log2'],\n",
       "                                        'min_samples_leaf': [1, 2, 4]},\n",
       "                   pre_dispatch='2*n_jobs', random_state=42, refit=True,\n",
       "                   return_train_score=False, scoring=None, verbose=0)"
      ]
     },
     "execution_count": 8,
     "metadata": {},
     "output_type": "execute_result"
    }
   ],
   "source": [
    "\n",
    "max_features = ['auto', None, 'log2']\n",
    "\n",
    "max_depth = [10, 20, 30, 40, 50, 60, 70, 80, 90, None]\n",
    "\n",
    "min_samples_leaf = [1, 2, 4]\n",
    "\n",
    "random_grid = {'max_features': max_features,\n",
    "               'max_depth': max_depth,\n",
    "               'min_samples_leaf': min_samples_leaf}\n",
    "print(random_grid)\n",
    "\n",
    "\n",
    "rf = RandomForestClassifier(n_estimators=10)\n",
    "rf_random = RandomizedSearchCV(estimator = rf, param_distributions = random_grid, n_iter = 90, cv = 3, random_state=42)\n",
    "rf_random.fit(x_train, y_train)"
   ]
  },
  {
   "cell_type": "code",
   "execution_count": 9,
   "metadata": {},
   "outputs": [
    {
     "data": {
      "text/plain": [
       "{'min_samples_leaf': 2, 'max_features': None, 'max_depth': 90}"
      ]
     },
     "execution_count": 9,
     "metadata": {},
     "output_type": "execute_result"
    }
   ],
   "source": [
    "rf_random.best_params_"
   ]
  },
  {
   "cell_type": "code",
   "execution_count": 13,
   "metadata": {},
   "outputs": [
    {
     "name": "stdout",
     "output_type": "stream",
     "text": [
      "[[17  2]\n",
      " [ 8 28]]\n",
      "              precision    recall  f1-score   support\n",
      "\n",
      "           0       0.68      0.89      0.77        19\n",
      "           1       0.93      0.78      0.85        36\n",
      "\n",
      "    accuracy                           0.82        55\n",
      "   macro avg       0.81      0.84      0.81        55\n",
      "weighted avg       0.85      0.82      0.82        55\n",
      "\n"
     ]
    }
   ],
   "source": [
    "forest = RandomForestClassifier(n_estimators=50, min_samples_leaf=2, max_features=\"auto\", max_depth=90)\n",
    "forest.fit(x_train, y_train)\n",
    "\n",
    "forestPredictions = forest.predict(x_test)\n",
    "print(confusion_matrix(y_test, forestPredictions))\n",
    "print(classification_report(y_test, forestPredictions))"
   ]
  },
  {
   "cell_type": "code",
   "execution_count": null,
   "metadata": {},
   "outputs": [],
   "source": [
    "#After tuning our RF give 85% accuracy. "
   ]
  }
 ],
 "metadata": {
  "kernelspec": {
   "display_name": "Python 3",
   "language": "python",
   "name": "python3"
  },
  "language_info": {
   "codemirror_mode": {
    "name": "ipython",
    "version": 3
   },
   "file_extension": ".py",
   "mimetype": "text/x-python",
   "name": "python",
   "nbconvert_exporter": "python",
   "pygments_lexer": "ipython3",
   "version": "3.7.6"
  }
 },
 "nbformat": 4,
 "nbformat_minor": 4
}
